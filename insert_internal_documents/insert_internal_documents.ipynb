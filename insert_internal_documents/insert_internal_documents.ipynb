{
 "cells": [
  {
   "cell_type": "markdown",
   "metadata": {},
   "source": [
    "# Notion API"
   ]
  },
  {
   "cell_type": "code",
   "execution_count": 2,
   "metadata": {},
   "outputs": [],
   "source": [
    "import requests\n",
    "\n",
    "# Notion APIトークン\n",
    "token = 'secret_xxxxxxxxxxxxxxxxxxxxxxxxxxxxxxxxxxxxxxxx'\n",
    "\n",
    "# データベースID\n",
    "database_id = 'xxxxxxxxxxxxxxxxxxxxxxxxxxxxxxxx'"
   ]
  },
  {
   "cell_type": "code",
   "execution_count": 3,
   "metadata": {},
   "outputs": [],
   "source": [
    "# ページの取得\n",
    "def get_pages(token, database_id):\n",
    "    # ヘッダーにAuthorizationを設定\n",
    "    headers = {\n",
    "        'Authorization': f'Bearer {token}',\n",
    "        'Notion-Version': '2022-06-28'  # Notion APIバージョン\n",
    "    }\n",
    "\n",
    "    # フィルタリング条件を設定\n",
    "    filter_condition = {\n",
    "        \"property\": \"Published\",  # チェックボックスのプロパティ名\n",
    "        \"checkbox\": {\n",
    "            \"equals\": True  # Trueであるアイテムをフィルタリング\n",
    "        }\n",
    "    }\n",
    "\n",
    "    url = f'https://api.notion.com/v1/databases/{database_id}/query'\n",
    "    data = {\n",
    "        \"filter\": filter_condition\n",
    "    }\n",
    "    response = requests.post(url, headers=headers, json=data)\n",
    "    pages = response.json()\n",
    "    return pages\n"
   ]
  },
  {
   "cell_type": "code",
   "execution_count": 4,
   "metadata": {},
   "outputs": [],
   "source": [
    "# ページの内容を取得\n",
    "def get_page_data(token, page_id):\n",
    "    # Notion APIエンドポイント\n",
    "    endpoint = f\"https://api.notion.com/v1/blocks/{page_id}/children\"\n",
    "\n",
    "    # リクエストヘッダー\n",
    "    headers = {\n",
    "        \"Authorization\": f\"Bearer {token}\",\n",
    "        \"Notion-Version\": \"2022-06-28\",\n",
    "        \"Content-Type\": \"application/json\",\n",
    "    }\n",
    "\n",
    "    # APIリクエストを送信してページの内容を取得\n",
    "    response = requests.get(endpoint, headers=headers)\n",
    "\n",
    "    if response.status_code == 200:\n",
    "        page_data = response.json()\n",
    "        return page_data\n",
    "    else:\n",
    "        print(f\"エラー：{response.status_code}\")\n",
    "        return None"
   ]
  },
  {
   "cell_type": "code",
   "execution_count": 5,
   "metadata": {},
   "outputs": [],
   "source": [
    "# ページの内容からテキストと子ページのタイトルを抽出\n",
    "def extract_text_and_titles(data):\n",
    "    text = \"\"\n",
    "\n",
    "    for block in data['results']:\n",
    "        if block['type'] == 'paragraph':\n",
    "            text += block['paragraph']['rich_text'][0]['text']['content'] + '\\n'\n",
    "        elif block['type'] == 'heading_1':\n",
    "            text += block['heading_1']['rich_text'][0]['text']['content'] + '\\n'\n",
    "        elif block['type'] == 'heading_2':\n",
    "            text += block['heading_2']['rich_text'][0]['text']['content'] + '\\n'\n",
    "        elif block['type'] == 'heading_3':\n",
    "            text += block['heading_3']['rich_text'][0]['text']['content'] + '\\n'\n",
    "        elif block['type'] == 'bulleted_list_item':\n",
    "            text += block['bulleted_list_item']['rich_text'][0]['text']['content'] + '\\n'\n",
    "        elif block['type'] == 'child_page':\n",
    "            text += block['child_page']['title'] + '\\n'\n",
    "\n",
    "    # textの最後の改行を削除\n",
    "    text = text.rstrip('\\n')\n",
    "    return text"
   ]
  },
  {
   "cell_type": "code",
   "execution_count": 6,
   "metadata": {},
   "outputs": [],
   "source": [
    "def get_notion_info(token, database_id):\n",
    "    # 保存用の配列\n",
    "    contents = []  \n",
    "    # データベースからページを全て取得\n",
    "    pages = get_pages(token, database_id)   \n",
    "    # ページデータを表示\n",
    "    for page in pages['results']:\n",
    "        page_url = page['url']\n",
    "        page_id = page['id']\n",
    "        page_data = get_page_data(token, page_id)\n",
    "        content = extract_text_and_titles(page_data)\n",
    "        # URLとページの内容を配列に追加\n",
    "        contents.append([page_url, content])\n",
    "\n",
    "    return contents"
   ]
  },
  {
   "cell_type": "code",
   "execution_count": 7,
   "metadata": {},
   "outputs": [],
   "source": [
    "contents = get_notion_info(token, database_id)"
   ]
  },
  {
   "cell_type": "code",
   "execution_count": 8,
   "metadata": {},
   "outputs": [
    {
     "data": {
      "text/plain": [
       "[['https://www.notion.so/Notion-5ac93f250a764049880e2d1e4bcebebe',\n",
       "  'Notionで新規ページを作成する権限を付与してもらう方法は以下の手順に従います。\\nワークスペースの管理者に連絡\\n最初に、ワークスペースの管理者（北爪さん）に連絡し、ページ作成の権限を要求します。\\n権限レベルの確認\\n管理者は、あなたのアカウントがどの権限レベルにあるかを確認します。Notionでは、一般的に「メンバー」または「管理者」になる必要があります。\\n権限の変更\\n管理者は、ワークスペースの設定にアクセスし、あなたのアカウントの権限を「メンバー」や「管理者」に変更できます。\\nページ作成の確認\\n権限が変更された後、新しいページを作成して、権限が正しく設定されていることを確認します。\\n追加の設定\\n必要に応じて、特定のページやフォルダーに対する追加のアクセス権を設定することができます。'],\n",
       " ['https://www.notion.so/544110ecdefc441282d1731132e940fb',\n",
       "  '経費精算の手順は以下の通りです。\\n経費の規定確認\\n精算可能な経費とその条件を、会社の経費規定やマニュアルで確認します。\\nレシートや領収書の収集\\n精算する経費に関するレシートや領収書を収集します。\\n経費報告書の作成\\n所定の経費報告書に、日付、経費の種類、金額、経費の目的や理由を記入します。デジタルのシステムを使用する場合は、オンラインで入力します。\\n添付資料の準備\\nレシートや領収書のコピー、必要に応じて移動経路や時間帯の説明を添付します。\\n上司への提出・承認依頼\\n報告書と添付資料を上司に提出し、承認を依頼します。\\n経理部門への提出\\n上司の承認を得た後、報告書と添付資料を経理部門に提出します。\\n精算の処理待ち\\n経理部門での精算処理を待ちます。この段階で不明点があれば経理部門から問い合わせが来ることがあります。\\n精算金の受領\\n精算が完了し、指定された方法（銀行振込、給与との併給など）で精算金を受領します。\\n注意点\\nレシートや領収書は紛失しないように注意し、必要な情報が全て記載されていることを確認します。\\n精算申請はできるだけ早めに行うことが望ましいです。'],\n",
       " ['https://www.notion.so/5d5bf255419540a483ad54bfcc7b8474',\n",
       "  'VISION\\nインターネットが登場して30年経ちました。\\nスマホは当たり前になり、誰もがSNSで情報発信しています。\\nしかし、働く現場ではまだまだ非効率な仕組みが残っており、\\n人が行うべき「考える」時間が奪われています。\\n我々は、テクノロジーの力で作業を効率化し、\\n人の能力のポテンシャルを最大限発揮できる世界を作ります。\\n我々、piponは、テクノロジーで世の中を効率化します。\\n企業情報\\n会社名称：株式会社pipon\\n所在地：〒104-0061 東京都中央区銀座1-12-4N&E BLD.7階\\n設立：2019年9月13日\\n資本金：200万円\\n代表取締役社長：北爪聖也\\n代表メールアドレス：seiyakitazume@pi-pon.com'],\n",
       " ['https://www.notion.so/a3c34ef7df2747398b2137c5cba2f189',\n",
       "  '有給休暇の取得手順は以下の通りです。\\n有給休暇の残数確認\\nまず、自分が取得可能な有給休暇の残数を人事部門や専用のシステムで確認します。\\n日程の選定\\n休暇を取りたい日程を決めます。有給休暇の申請期限は、急な体調不良等の例外を除き取得日の一週間前までとします。\\n上司への相談\\n休暇を取る前に、上司に相談し、休暇の理由と日程を伝えます。この時、業務に支障がないかどうかも話し合います。\\n申請書の提出\\n上司の承認を得たら、有給休暇申請書を作成し提出します。申請書は電子システムを使って提出することができます。\\n申請の承認待ち\\n申請書が人事部門によって処理され、承認されるのを待ちます。\\n休暇の準備\\n休暇中の業務に影響がないように、事前に業務の引き継ぎや準備を行います。\\n休暇の取得\\n承認されたら、休暇を取得します。この時、緊急連絡先などを職場に伝えておくことも重要です。\\n復帰後のフォローアップ\\n休暇から戻った後は、業務のキャッチアップや引き継いだ業務の報告を行います。\\n注意点\\n繁忙期など、会社の業務に支障をきたす時期には休暇の取得が難しい場合があります。\\n長期休暇を取る場合は、より早めに手続きを進めることが望ましいです。']]"
      ]
     },
     "execution_count": 8,
     "metadata": {},
     "output_type": "execute_result"
    }
   ],
   "source": [
    "contents"
   ]
  },
  {
   "cell_type": "markdown",
   "metadata": {},
   "source": [
    "# Cognitive Search"
   ]
  },
  {
   "cell_type": "code",
   "execution_count": 9,
   "metadata": {},
   "outputs": [],
   "source": [
    "from langchain.docstore.document import Document\n",
    "from langchain.text_splitter import CharacterTextSplitter\n",
    "\n",
    "# 文章とメタデータを受け取り、Documentのリストを返す\n",
    "def txtToDocs(content:str, metadata:dict):\n",
    "    docs = [Document(page_content=content, metadata=metadata)] # Documentのリストを作成\n",
    "    chunk_size=1000 # Documentの文字数の設定\n",
    "    separator='' # Documentの区切り文字の設定(''の場合、chunk_sizeで指定した文字数で区切る)\n",
    "    chunk_overlap=50 # 分割した文章のオーバーラップする文字数の設定\n",
    "\n",
    "    # 文章を分割するためのインスタンスを作成\n",
    "    text_splitter = CharacterTextSplitter(\n",
    "            chunk_size=chunk_size, \n",
    "            separator=separator, \n",
    "            chunk_overlap=chunk_overlap\n",
    "            )\n",
    "    # Documentのリストを設定したパラメータで分割\n",
    "    splitted_docs = text_splitter.split_documents(docs)\n",
    "    return splitted_docs"
   ]
  },
  {
   "cell_type": "code",
   "execution_count": 13,
   "metadata": {},
   "outputs": [],
   "source": [
    "import os\n",
    "from langchain.embeddings.openai import OpenAIEmbeddings\n",
    "from langchain.vectorstores.azuresearch import AzureSearch\n",
    "\n",
    "# ベクターストアのロード\n",
    "def azureLoad(fields=None):\n",
    "    embeddings: OpenAIEmbeddings = OpenAIEmbeddings(\n",
    "        deployment=os.environ['OPENAI_API_EMBEDDING_DEPLOYMENT_NAME'], # モデルのデプロイメント名\n",
    "        model_name=os.environ['OPENAI_API_EMBEDDING_MODEL_NAME'] # モデル名\n",
    "    ) # OpenAIのモデルを使用してベクトル化\n",
    "\n",
    "    # ベクターストアのインスタンスを作成\n",
    "    vectore_stores: AzureSearch = AzureSearch(\n",
    "        azure_search_endpoint=os.environ['AZURE_VECTORE_STORES_ADDRESES'],  \n",
    "        azure_search_key=os.environ['AZURE_VECTORE_STORES_PASSWORD'],  \n",
    "        index_name=os.environ['AZURE_VECTORE_STORES_INDEX_NAME'],\n",
    "        embedding_function=embeddings.embed_query,\n",
    "        fields=fields\n",
    "    )\n",
    "    return vectore_stores"
   ]
  },
  {
   "cell_type": "code",
   "execution_count": 14,
   "metadata": {},
   "outputs": [],
   "source": [
    "from azure.search.documents.indexes.models import (\n",
    "    SearchableField,\n",
    "    SearchField,\n",
    "    SearchFieldDataType,\n",
    "    SimpleField\n",
    ")\n",
    "\n",
    "# ベクターストアへのドキュメントの追加\n",
    "def azureAddDocuments(documents:list[Document]):\n",
    "    embeddings: OpenAIEmbeddings = OpenAIEmbeddings() # OpenAIのモデルを使用してベクトル化\n",
    "    \n",
    "    # ベクターストアの検索フィールドの設定\n",
    "    # metadataでフィルタリングする場合は、filterable=Trueを設定する\n",
    "    fields = [\n",
    "        SimpleField(\n",
    "            name=\"id\",\n",
    "            type=SearchFieldDataType.String,\n",
    "            key=True,\n",
    "            filterable=True,\n",
    "        ),\n",
    "        SearchableField(\n",
    "            name=\"content\",\n",
    "            type=SearchFieldDataType.String,\n",
    "            searchable=True,\n",
    "        ),\n",
    "        SearchField(\n",
    "            name=\"content_vector\",\n",
    "            type=SearchFieldDataType.Collection(SearchFieldDataType.Single),\n",
    "            searchable=True,\n",
    "            vector_search_dimensions=len(embeddings.embed_query(\"Text\")),\n",
    "            vector_search_configuration=\"default\",\n",
    "        ),\n",
    "        SearchableField(\n",
    "            name=\"metadata\",\n",
    "            type=SearchFieldDataType.String,\n",
    "            searchable=True,\n",
    "        ),\n",
    "        # フィルタリングしたいmetadataはここに追加する\n",
    "        SimpleField(\n",
    "            name=\"notion_id\", # フィルタリングしたいmetadataのキー\n",
    "            type=SearchFieldDataType.String, # フィルタリングしたいmetadataの型\n",
    "            filterable=True, # フィルタリング可能にする\n",
    "        ),\n",
    "    ]\n",
    "\n",
    "    vectore_stores = azureLoad(fields=fields) # ベクターストアのロード\n",
    "\n",
    "    res = vectore_stores.add_documents(documents) # ベクターストアへのドキュメントの追加\n",
    "    return res"
   ]
  },
  {
   "cell_type": "code",
   "execution_count": null,
   "metadata": {},
   "outputs": [],
   "source": [
    "from dotenv import load_dotenv\n",
    "load_dotenv()  # .envファイルから環境変数を読み込む\n",
    "\n",
    "for content in contents:\n",
    "    metadata = {\n",
    "        \"notion_id\": content[0],\n",
    "    }\n",
    "    docs = txtToDocs(content[1], metadata)\n",
    "    azureAddDocuments(docs)"
   ]
  },
  {
   "cell_type": "code",
   "execution_count": null,
   "metadata": {},
   "outputs": [],
   "source": []
  }
 ],
 "metadata": {
  "kernelspec": {
   "display_name": "Python 3",
   "language": "python",
   "name": "python3"
  },
  "language_info": {
   "codemirror_mode": {
    "name": "ipython",
    "version": 3
   },
   "file_extension": ".py",
   "mimetype": "text/x-python",
   "name": "python",
   "nbconvert_exporter": "python",
   "pygments_lexer": "ipython3",
   "version": "3.11.4"
  }
 },
 "nbformat": 4,
 "nbformat_minor": 2
}
